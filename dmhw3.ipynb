{
 "cells": [
  {
   "cell_type": "markdown",
   "metadata": {},
   "source": [
    "### Kapezov Shyngys BDA 1901 "
   ]
  },
  {
   "cell_type": "markdown",
   "metadata": {},
   "source": [
    "## Kolesa.kz : cars in Kokshetau"
   ]
  },
  {
   "cell_type": "code",
   "execution_count": 47,
   "metadata": {},
   "outputs": [],
   "source": [
    "import numpy as np\n",
    "import pandas as pd\n",
    "from bs4 import BeautifulSoup\n",
    "from selenium import webdriver\n",
    "import os\n",
    "from selenium.webdriver.common.keys import Keys\n",
    "from selenium.webdriver.chrome.options import Options\n",
    "from selenium.webdriver.support.ui import WebDriverWait as wait\n",
    "from selenium.common.exceptions import TimeoutException"
   ]
  },
  {
   "cell_type": "code",
   "execution_count": 48,
   "metadata": {},
   "outputs": [],
   "source": [
    "chrome_driver = os.getcwd() + \"\\\\chromedriver.exe\"\n",
    "opts = Options()\n",
    "driver = webdriver.Chrome(options=opts,executable_path=chrome_driver)"
   ]
  },
  {
   "cell_type": "code",
   "execution_count": 49,
   "metadata": {},
   "outputs": [],
   "source": [
    "url='https://kolesa.kz/cars/avtokredit/kokshetau/'\n",
    "driver.get(url)"
   ]
  },
  {
   "cell_type": "code",
   "execution_count": 50,
   "metadata": {},
   "outputs": [],
   "source": [
    "names=[] \n",
    "descriptions=[] "
   ]
  },
  {
   "cell_type": "code",
   "execution_count": 51,
   "metadata": {},
   "outputs": [],
   "source": [
    "content = driver.page_source\n",
    "soup = BeautifulSoup(content)\n",
    "for a in soup.findAll('div',href=False, attrs={'class':'a-info-side col-right-list'}):\n",
    "    name=a.find('span', attrs={'class':'a-el-info-title'})\n",
    "    description=a.find('div', attrs={'class':'desc'})\n",
    "    names.append(name.text)\n",
    "    descriptions.append(description.text) "
   ]
  },
  {
   "cell_type": "code",
   "execution_count": 61,
   "metadata": {},
   "outputs": [
    {
     "data": {
      "text/html": [
       "<style  type=\"text/css\" >\n",
       "    #T_67e74ca3_5346_11eb_9260_f8a2d657ed7arow0_col1 {\n",
       "            width:  300px;\n",
       "        }    #T_67e74ca3_5346_11eb_9260_f8a2d657ed7arow1_col1 {\n",
       "            width:  300px;\n",
       "        }    #T_67e74ca3_5346_11eb_9260_f8a2d657ed7arow2_col1 {\n",
       "            width:  300px;\n",
       "        }    #T_67e74ca3_5346_11eb_9260_f8a2d657ed7arow3_col1 {\n",
       "            width:  300px;\n",
       "        }    #T_67e74ca3_5346_11eb_9260_f8a2d657ed7arow4_col1 {\n",
       "            width:  300px;\n",
       "        }</style><table id=\"T_67e74ca3_5346_11eb_9260_f8a2d657ed7a\" ><thead>    <tr>        <th class=\"blank level0\" ></th>        <th class=\"col_heading level0 col0\" >Product Name</th>        <th class=\"col_heading level0 col1\" >Description</th>    </tr></thead><tbody>\n",
       "                <tr>\n",
       "                        <th id=\"T_67e74ca3_5346_11eb_9260_f8a2d657ed7alevel0_row0\" class=\"row_heading level0 row0\" >0</th>\n",
       "                        <td id=\"T_67e74ca3_5346_11eb_9260_f8a2d657ed7arow0_col0\" class=\"data row0 col0\" >    Toyota Camry</td>\n",
       "                        <td id=\"T_67e74ca3_5346_11eb_9260_f8a2d657ed7arow0_col1\" class=\"data row0 col1\" >\n",
       "                        2004 г., Б/у седан, 2.4 л, бензин, КПП автомат, с пробегом 231 513 км, серебристый, Цена окончательная! Обмен и прочие...\n",
       "                    </td>\n",
       "            </tr>\n",
       "            <tr>\n",
       "                        <th id=\"T_67e74ca3_5346_11eb_9260_f8a2d657ed7alevel0_row1\" class=\"row_heading level0 row1\" >1</th>\n",
       "                        <td id=\"T_67e74ca3_5346_11eb_9260_f8a2d657ed7arow1_col0\" class=\"data row1 col0\" >    Toyota Corolla</td>\n",
       "                        <td id=\"T_67e74ca3_5346_11eb_9260_f8a2d657ed7arow1_col1\" class=\"data row1 col1\" >\n",
       "                        2015 г., Б/у седан, 1.6 л, бензин, КПП вариатор, с пробегом 76 000 км, белый, литые диски, тонировка, противотуманки,...\n",
       "                    </td>\n",
       "            </tr>\n",
       "            <tr>\n",
       "                        <th id=\"T_67e74ca3_5346_11eb_9260_f8a2d657ed7alevel0_row2\" class=\"row_heading level0 row2\" >2</th>\n",
       "                        <td id=\"T_67e74ca3_5346_11eb_9260_f8a2d657ed7arow2_col0\" class=\"data row2 col0\" >    ВАЗ (Lada) 2107</td>\n",
       "                        <td id=\"T_67e74ca3_5346_11eb_9260_f8a2d657ed7arow2_col1\" class=\"data row2 col1\" >\n",
       "                        2009 г., Б/у седан, 1.5 л, бензин, КПП механика, велюр, MP3, USB, CD, сигнализация, автозапуск, вложений не требует, т...\n",
       "                    </td>\n",
       "            </tr>\n",
       "            <tr>\n",
       "                        <th id=\"T_67e74ca3_5346_11eb_9260_f8a2d657ed7alevel0_row3\" class=\"row_heading level0 row3\" >3</th>\n",
       "                        <td id=\"T_67e74ca3_5346_11eb_9260_f8a2d657ed7arow3_col0\" class=\"data row3 col0\" >    ВАЗ (Lada) 2171 (универсал)</td>\n",
       "                        <td id=\"T_67e74ca3_5346_11eb_9260_f8a2d657ed7arow3_col1\" class=\"data row3 col1\" >\n",
       "                        2014 г., Б/у универсал, 1.6 л, бензин, КПП механика, с пробегом 95 000 км, белый, литые диски, тонировка, хрустальная...\n",
       "                    </td>\n",
       "            </tr>\n",
       "            <tr>\n",
       "                        <th id=\"T_67e74ca3_5346_11eb_9260_f8a2d657ed7alevel0_row4\" class=\"row_heading level0 row4\" >4</th>\n",
       "                        <td id=\"T_67e74ca3_5346_11eb_9260_f8a2d657ed7arow4_col0\" class=\"data row4 col0\" >    Toyota Camry</td>\n",
       "                        <td id=\"T_67e74ca3_5346_11eb_9260_f8a2d657ed7arow4_col1\" class=\"data row4 col1\" >\n",
       "                        2018 г., Б/у седан, 2 л, бензин, КПП автомат, с пробегом 39 000 км, белый, тонировка, кожа\n",
       "                    </td>\n",
       "            </tr>\n",
       "    </tbody></table>"
      ],
      "text/plain": [
       "<pandas.io.formats.style.Styler at 0x1bed721e8e0>"
      ]
     },
     "execution_count": 61,
     "metadata": {},
     "output_type": "execute_result"
    }
   ],
   "source": [
    "df = pd.DataFrame({'Product Name':names,'Description':descriptions})\n",
    "df.head().style.set_properties(subset=['Description'], **{'width': '300px'})\n"
   ]
  },
  {
   "cell_type": "markdown",
   "metadata": {},
   "source": [
    "### the simple webscraping of one page of kolesa.kz in kokshetau."
   ]
  },
  {
   "cell_type": "code",
   "execution_count": null,
   "metadata": {},
   "outputs": [],
   "source": []
  }
 ],
 "metadata": {
  "kernelspec": {
   "display_name": "Python 3",
   "language": "python",
   "name": "python3"
  },
  "language_info": {
   "codemirror_mode": {
    "name": "ipython",
    "version": 3
   },
   "file_extension": ".py",
   "mimetype": "text/x-python",
   "name": "python",
   "nbconvert_exporter": "python",
   "pygments_lexer": "ipython3",
   "version": "3.8.3"
  }
 },
 "nbformat": 4,
 "nbformat_minor": 4
}
